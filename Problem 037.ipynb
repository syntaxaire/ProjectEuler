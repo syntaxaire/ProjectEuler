{
 "cells": [
  {
   "cell_type": "markdown",
   "metadata": {},
   "source": [
    "### Problem 37: Truncatable primes\n",
    "The number 3797 has an interesting property. Being prime itself, it is possible to continuously remove digits from left to right, and remain prime at each stage: 3797, 797, 97, and 7. Similarly we can work from right to left: 3797, 379, 37, and 3.\n",
    "\n",
    "Find the sum of the only eleven primes that are both truncatable from left to right and right to left.\n",
    "\n",
    "NOTE: 2, 3, 5, and 7 are not considered to be truncatable primes."
   ]
  },
  {
   "cell_type": "code",
   "execution_count": 34,
   "metadata": {},
   "outputs": [
    {
     "name": "stdout",
     "output_type": "stream",
     "text": [
      "23\n",
      "37\n",
      "53\n",
      "73\n",
      "313\n",
      "317\n",
      "373\n",
      "797\n",
      "3137\n",
      "3797\n",
      "739397\n",
      "Done in 12.044869883495778 seconds.\n",
      "748317\n"
     ]
    }
   ],
   "source": [
    "from timeit import default_timer as timer\n",
    "from euler import sieve_eratosthenes_up_to\n",
    "\n",
    "def truncatable_left(num, primes):\n",
    "    for i in range(len(str(num))):\n",
    "        if int(str(num)[i:]) not in primes:\n",
    "            return False\n",
    "    return True\n",
    "\n",
    "def truncatable_right(num, primes):\n",
    "    for i in range(len(str(num))):\n",
    "        if int(str(num)[:len(str(num)) - i]) not in primes:\n",
    "            return False\n",
    "    return True\n",
    "\n",
    "start = timer()\n",
    "found = 0\n",
    "search = 10_000_000\n",
    "primes = set(sieve_eratosthenes_up_to(search))\n",
    "truncatable = []\n",
    "for prime in primes:\n",
    "    if truncatable_left(prime, primes) and truncatable_right(prime, primes) and prime not in (2, 3, 5, 7):\n",
    "        print(prime)\n",
    "        truncatable.append(prime)\n",
    "end = timer()\n",
    "print(f\"Done in {end - start} seconds.\")\n",
    "print(sum(truncatable))"
   ]
  },
  {
   "cell_type": "code",
   "execution_count": null,
   "metadata": {},
   "outputs": [],
   "source": []
  }
 ],
 "metadata": {
  "kernelspec": {
   "display_name": "Python 3",
   "language": "python",
   "name": "python3"
  },
  "language_info": {
   "codemirror_mode": {
    "name": "ipython",
    "version": 3
   },
   "file_extension": ".py",
   "mimetype": "text/x-python",
   "name": "python",
   "nbconvert_exporter": "python",
   "pygments_lexer": "ipython3",
   "version": "3.6.5"
  }
 },
 "nbformat": 4,
 "nbformat_minor": 2
}
