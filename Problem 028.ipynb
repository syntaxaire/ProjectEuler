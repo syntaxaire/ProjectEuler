{
 "cells": [
  {
   "cell_type": "markdown",
   "metadata": {},
   "source": [
    "### Problem 28: Number spiral diagonals\n",
    "Starting with the number 1 and moving to the right in a clockwise direction a 5 by 5 spiral is formed as follows:\n",
    "```\n",
    "21 22 23 24 25\n",
    "20  7  8  9 10\n",
    "19  6  1  2 11\n",
    "18  5  4  3 12\n",
    "17 16 15 14 13\n",
    "```\n",
    "It can be verified that the sum of the numbers on the diagonals is 101.\n",
    "\n",
    "What is the sum of the numbers on the diagonals in a 1001 by 1001 spiral formed in the same way?"
   ]
  },
  {
   "cell_type": "code",
   "execution_count": 1,
   "metadata": {
    "collapsed": true
   },
   "outputs": [],
   "source": [
    "# added to euler.py\n",
    "def gen_number_spiral_diagonals(max):\n",
    "    \"\"\"Yield terms of the sequence of the diagonals on the spiral of positive integers up to max,\n",
    "    one at a time, where max is a positive integer.\"\"\"\n",
    "    \"\"\"Example:\n",
    "    21 22 23 24 25\n",
    "    20  7  8  9 10\n",
    "    19  6  1  2 11\n",
    "    18  5  4  3 12\n",
    "    17 16 15 14 13\n",
    "    Calling gen_number_spiral_diagonals(25) would yield 1, 3, 5, 7, 9, 13, 17, 21, 25 in sequence.\n",
    "    From Problem 28: Number spiral diagonals.\"\"\"\n",
    "    term = 1\n",
    "    inc = 2\n",
    "    yield term\n",
    "    while True:\n",
    "        for _ in range(4):\n",
    "            if term + inc > max:\n",
    "                return\n",
    "            term += inc\n",
    "            yield term\n",
    "        inc += 2"
   ]
  },
  {
   "cell_type": "markdown",
   "metadata": {},
   "source": [
    "The upper-right term increases like 1, 9, 25, 49, 81, etc. So the upper-right term of a square spiral of width and height x is x^2."
   ]
  },
  {
   "cell_type": "code",
   "execution_count": 2,
   "metadata": {
    "collapsed": false
   },
   "outputs": [
    {
     "name": "stdout",
     "output_type": "stream",
     "text": [
      "669171001\n"
     ]
    }
   ],
   "source": [
    "print(sum(gen_number_spiral_diagonals(1001**2)))"
   ]
  },
  {
   "cell_type": "code",
   "execution_count": null,
   "metadata": {
    "collapsed": true
   },
   "outputs": [],
   "source": []
  }
 ],
 "metadata": {
  "kernelspec": {
   "display_name": "Python 3",
   "language": "python",
   "name": "python3"
  },
  "language_info": {
   "codemirror_mode": {
    "name": "ipython",
    "version": 3
   },
   "file_extension": ".py",
   "mimetype": "text/x-python",
   "name": "python",
   "nbconvert_exporter": "python",
   "pygments_lexer": "ipython3",
   "version": "3.6.0"
  }
 },
 "nbformat": 4,
 "nbformat_minor": 2
}
