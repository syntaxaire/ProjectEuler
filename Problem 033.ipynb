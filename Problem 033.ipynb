{
 "cells": [
  {
   "cell_type": "markdown",
   "metadata": {},
   "source": [
    "# Digit cancelling fractions\n",
    "\n",
    "The fraction $\\frac{49}{98}$ is a curious fraction, as an inexperienced mathematician in attempting to simplify it may incorrectly believe that $\\frac{49}{98}$ = $\\frac{4}{8}$, which is correct, is obtained by cancelling the 9s.\n",
    "\n",
    "We shall consider fractions like, $\\frac{30}{50} = \\frac{3}{5}$, to be trivial examples.\n",
    "\n",
    "There are exactly four non-trivial examples of this type of fraction, less than one in value, and containing two digits in the numerator and denominator.\n",
    "\n",
    "If the product of these four fractions is given in its lowest common terms, find the value of the denominator."
   ]
  },
  {
   "cell_type": "code",
   "execution_count": 1,
   "metadata": {
    "collapsed": false
   },
   "outputs": [
    {
     "name": "stdout",
     "output_type": "stream",
     "text": [
      "{(49, 98), (19, 95), (16, 64), (26, 65)}\n"
     ]
    }
   ],
   "source": [
    "def is_digit_cancelling_fraction(a, b):\n",
    "    a_s = str(a)\n",
    "    b_s = str(b)\n",
    "    if a_s[0] == b_s[1]:\n",
    "        if b_s[0] != '0':\n",
    "            if a/b == int(a_s[1]) / int(b_s[0]):\n",
    "                return True\n",
    "    if a_s[1] == b_s[0]:\n",
    "        if b_s[1] != '0':\n",
    "            if a/b == int(a_s[0]) / int(b_s[1]):\n",
    "                return True\n",
    "    return False\n",
    "\n",
    "s = set()\n",
    "for b in range(12, 100):\n",
    "    for a in range(10, b):\n",
    "        if is_digit_cancelling_fraction(a, b):\n",
    "            s.add((a, b))\n",
    "print(s)"
   ]
  },
  {
   "cell_type": "code",
   "execution_count": 2,
   "metadata": {
    "collapsed": false
   },
   "outputs": [
    {
     "data": {
      "text/plain": [
       "Fraction(1, 100)"
      ]
     },
     "execution_count": 2,
     "metadata": {},
     "output_type": "execute_result"
    }
   ],
   "source": [
    "from fractions import Fraction\n",
    "Fraction(49*19*16*26, 98*95*64*65)"
   ]
  },
  {
   "cell_type": "code",
   "execution_count": null,
   "metadata": {
    "collapsed": true
   },
   "outputs": [],
   "source": []
  }
 ],
 "metadata": {
  "kernelspec": {
   "display_name": "Python 3",
   "language": "python",
   "name": "python3"
  },
  "language_info": {
   "codemirror_mode": {
    "name": "ipython",
    "version": 3
   },
   "file_extension": ".py",
   "mimetype": "text/x-python",
   "name": "python",
   "nbconvert_exporter": "python",
   "pygments_lexer": "ipython3",
   "version": "3.6.0"
  }
 },
 "nbformat": 4,
 "nbformat_minor": 2
}
