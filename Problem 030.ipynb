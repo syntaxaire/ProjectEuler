{
 "cells": [
  {
   "cell_type": "markdown",
   "metadata": {},
   "source": [
    "### Problem 30: Digit fifth powers\n",
    "Surprisingly there are only three numbers that can be written as the sum of fourth powers of their digits:\n",
    "\n",
    "$$1634 = 1^{4} + 6^{4} + 3^{4} + 4^{4}$$\n",
    "$$8208 = 8^{4} + 2^{4} + 0^{4} + 8^{4}$$\n",
    "$$9474 = 9^{4} + 4^{4} + 7^{4} + 4^{4}$$\n",
    "\n",
    "As $1 = 1^{4}$ is not a sum it is not included.\n",
    "\n",
    "The sum of these numbers is 1634 + 8208 + 9474 = 19316.\n",
    "\n",
    "Find the sum of all the numbers that can be written as the sum of fifth powers of their digits."
   ]
  },
  {
   "cell_type": "code",
   "execution_count": 1,
   "metadata": {
    "collapsed": false
   },
   "outputs": [
    {
     "name": "stdout",
     "output_type": "stream",
     "text": [
      "{194979, 4151, 4150, 92727, 54748, 93084}\n",
      "443839\n",
      "Wall time: 9.79 s\n"
     ]
    }
   ],
   "source": [
    "%%time\n",
    "s = set()\n",
    "for _ in range(10, 1000000):\n",
    "    if _ == sum([int(digit) ** 5 for digit in str(_)]):\n",
    "        s.add(_)\n",
    "print(s)\n",
    "print(sum(list(s)))"
   ]
  }
 ],
 "metadata": {
  "kernelspec": {
   "display_name": "Python 3",
   "language": "python",
   "name": "python3"
  },
  "language_info": {
   "codemirror_mode": {
    "name": "ipython",
    "version": 3
   },
   "file_extension": ".py",
   "mimetype": "text/x-python",
   "name": "python",
   "nbconvert_exporter": "python",
   "pygments_lexer": "ipython3",
   "version": "3.6.0"
  }
 },
 "nbformat": 4,
 "nbformat_minor": 2
}
