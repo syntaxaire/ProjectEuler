{
 "cells": [
  {
   "cell_type": "code",
   "execution_count": 1,
   "metadata": {
    "collapsed": false,
    "deletable": true,
    "editable": true
   },
   "outputs": [],
   "source": [
    "import euler # helper functions from previous problems"
   ]
  },
  {
   "cell_type": "markdown",
   "metadata": {
    "deletable": true,
    "editable": true
   },
   "source": [
    "### Problem 21: Amicable numbers\n",
    "Let d(n) be defined as the sum of proper divisors of n (numbers less than n which divide evenly into n).\n",
    "If d(a) = b and d(b) = a, where a ≠ b, then a and b are an amicable pair and each of a and b are called amicable numbers.\n",
    "\n",
    "For example, the proper divisors of 220 are 1, 2, 4, 5, 10, 11, 20, 22, 44, 55 and 110; therefore d(220) = 284. The proper divisors of 284 are 1, 2, 4, 71 and 142; so d(284) = 220.\n",
    "\n",
    "Evaluate the sum of all the amicable numbers under 10000."
   ]
  },
  {
   "cell_type": "code",
   "execution_count": 2,
   "metadata": {
    "collapsed": false,
    "deletable": true,
    "editable": true
   },
   "outputs": [
    {
     "name": "stdout",
     "output_type": "stream",
     "text": [
      "220 284\n",
      "284 220\n",
      "1184 1210\n",
      "1210 1184\n",
      "2620 2924\n",
      "2924 2620\n",
      "5020 5564\n",
      "5564 5020\n",
      "6232 6368\n",
      "6368 6232\n",
      "31626\n"
     ]
    }
   ],
   "source": [
    "problem_sum = 0\n",
    "for i in range(2, 10000):\n",
    "    potential_amicable = sum(euler.factor_list(i)[:-1]) # exclude the number being factored from the list of factors\n",
    "    if potential_amicable != i and sum(euler.factor_list(potential_amicable)[:-1]) == i:\n",
    "        print(i, potential_amicable)\n",
    "        problem_sum += i\n",
    "print(problem_sum)"
   ]
  },
  {
   "cell_type": "markdown",
   "metadata": {
    "deletable": true,
    "editable": true
   },
   "source": [
    "### Problem 22: Names scores\n",
    "Using p022_names.txt, a 46K text file containing over five-thousand first names, begin by sorting it into alphabetical order. Then working out the alphabetical value for each name, multiply this value by its alphabetical position in the list to obtain a name score.\n",
    "\n",
    "For example, when the list is sorted into alphabetical order, COLIN, which is worth 3 + 15 + 12 + 9 + 14 = 53, is the 938th name in the list. So, COLIN would obtain a score of 938 × 53 = 49714.\n",
    "\n",
    "What is the total of all the name scores in the file?"
   ]
  },
  {
   "cell_type": "code",
   "execution_count": 3,
   "metadata": {
    "collapsed": true,
    "deletable": true,
    "editable": true
   },
   "outputs": [],
   "source": [
    "# added to euler.py\n",
    "def alphabet_position(x):\n",
    "    \"\"\"Return the alphabetical index of a character. (A == a == 1, Z == z == 26)\"\"\"\n",
    "    assert(x.isalpha())\n",
    "    assert(len(x) == 1)\n",
    "    if x.isupper():\n",
    "        return(ord(x) - 64)\n",
    "    if x.islower():\n",
    "        return(ord(x) - 96)"
   ]
  },
  {
   "cell_type": "code",
   "execution_count": 4,
   "metadata": {
    "collapsed": false,
    "deletable": true,
    "editable": true,
    "scrolled": true
   },
   "outputs": [
    {
     "name": "stdout",
     "output_type": "stream",
     "text": [
      "871198282\n"
     ]
    }
   ],
   "source": [
    "namescores = 0\n",
    "\n",
    "with open('p022_names.txt') as f:\n",
    "    namestring = f.read()\n",
    "# The namestring looks like: \"GUS\",\"JOSEPH\",\"OLIVER\"\n",
    "namelist = [name[1:-1] for name in namestring.split(',')] # split on commas and chop off double quotes\n",
    "namelist.sort()\n",
    "for position in range(len(namelist)):\n",
    "    score = sum([alphabet_position(x) for x in namelist[position]])\n",
    "    namescores += score * (position+1)\n",
    "print(namescores)"
   ]
  },
  {
   "cell_type": "markdown",
   "metadata": {
    "deletable": true,
    "editable": true
   },
   "source": [
    "### Problem 23: Non-abundant sums\n",
    "A perfect number is a number for which the sum of its proper divisors is exactly equal to the number. For example, the sum of the proper divisors of 28 would be 1 + 2 + 4 + 7 + 14 = 28, which means that 28 is a perfect number.\n",
    "\n",
    "A number n is called deficient if the sum of its proper divisors is less than n and it is called abundant if this sum exceeds n.\n",
    "\n",
    "As 12 is the smallest abundant number, 1 + 2 + 3 + 4 + 6 = 16, the smallest number that can be written as the sum of two abundant numbers is 24. By mathematical analysis, it can be shown that all integers greater than 28123 can be written as the sum of two abundant numbers. However, this upper limit cannot be reduced any further by analysis even though it is known that the greatest number that cannot be expressed as the sum of two abundant numbers is less than this limit.\n",
    "\n",
    "Find the sum of all the positive integers which cannot be written as the sum of two abundant numbers."
   ]
  },
  {
   "cell_type": "code",
   "execution_count": 5,
   "metadata": {
    "collapsed": true,
    "deletable": true,
    "editable": true
   },
   "outputs": [],
   "source": [
    "# added to euler.py\n",
    "def isabundant(x):\n",
    "    \"\"\"Return True if x is an abundant number, False otherwise.\"\"\"\n",
    "    factors = euler.factor_list(x)[:-1] # proper divisors do not include the number being factored\n",
    "    if sum(factors) > x:\n",
    "        return True\n",
    "    else:\n",
    "        return False"
   ]
  },
  {
   "cell_type": "code",
   "execution_count": 6,
   "metadata": {
    "collapsed": false,
    "deletable": true,
    "editable": true
   },
   "outputs": [
    {
     "name": "stdout",
     "output_type": "stream",
     "text": [
      "4179871\n"
     ]
    }
   ],
   "source": [
    "# this is quite slow - target for optimization in copious free time\n",
    "problemsum = 0\n",
    "abundantnumbers = []\n",
    "abundantsums = []\n",
    "for i in range(1,28123):\n",
    "    if isabundant(i):\n",
    "        abundantnumbers.append(i)\n",
    "for i in range(1, 28123 + 1):\n",
    "    for j in abundantnumbers:\n",
    "        if j > i:\n",
    "            break\n",
    "        if i - j in abundantnumbers:\n",
    "            abundantsums.append(i)\n",
    "            break\n",
    "numbers1to28123 = set(range(1, 28123+1))\n",
    "abundantset = set(abundantsums)\n",
    "print(sum(numbers1to28123-abundantset))"
   ]
  },
  {
   "cell_type": "markdown",
   "metadata": {
    "deletable": true,
    "editable": true
   },
   "source": [
    "### Problem 24: Lexicographic permutations\n",
    "A permutation is an ordered arrangement of objects. For example, 3124 is one possible permutation of the digits 1, 2, 3 and 4. If all of the permutations are listed numerically or alphabetically, we call it lexicographic order. The lexicographic permutations of 0, 1 and 2 are:\n",
    "\n",
    "012   021   102   120   201   210\n",
    "\n",
    "What is the millionth lexicographic permutation of the digits 0, 1, 2, 3, 4, 5, 6, 7, 8 and 9?"
   ]
  },
  {
   "cell_type": "code",
   "execution_count": 7,
   "metadata": {
    "collapsed": false,
    "deletable": true,
    "editable": true,
    "scrolled": true
   },
   "outputs": [
    {
     "name": "stdout",
     "output_type": "stream",
     "text": [
      "('2', '7', '8', '3', '9', '1', '5', '4', '6', '0')\n"
     ]
    }
   ],
   "source": [
    "import itertools\n",
    "\n",
    "# Copied from itertools extended recipes documentation\n",
    "def nth(iterable, n, default=None):\n",
    "    \"Returns the nth item or a default value\"\n",
    "    return next(itertools.islice(iterable, n, None), default)\n",
    "\n",
    "permutations = itertools.permutations('0123456789')\n",
    "print(nth(permutations, 999999)) # 0 gives the \"first\" permutation (the initial order)"
   ]
  },
  {
   "cell_type": "markdown",
   "metadata": {
    "deletable": true,
    "editable": true
   },
   "source": [
    "### Problem 25: 1000-digit Fibonacci number\n",
    "The Fibonacci sequence is defined by the recurrence relation:\n",
    "\n",
    "Fn = Fn−1 + Fn−2, where F1 = 1 and F2 = 1\n",
    "Hence the first 12 terms will be:\n",
    "\n",
    "F1 = 1\n",
    "F2 = 1\n",
    "F3 = 2\n",
    "F4 = 3\n",
    "F5 = 5\n",
    "F6 = 8\n",
    "F7 = 13\n",
    "F8 = 21\n",
    "F9 = 34\n",
    "F10 = 55\n",
    "F11 = 89\n",
    "F12 = 144\n",
    "The 12th term, F12, is the first term to contain three digits.\n",
    "\n",
    "What is the index of the first term in the Fibonacci sequence to contain 1000 digits?"
   ]
  },
  {
   "cell_type": "code",
   "execution_count": 8,
   "metadata": {
    "collapsed": true,
    "deletable": true,
    "editable": true
   },
   "outputs": [],
   "source": [
    "# added to euler.py\n",
    "def gen_fibonacci():\n",
    "    \"\"\"Yield the Fibonacci sequence one term at a time.\"\"\"\n",
    "    a, b = 1, 1\n",
    "    while True:\n",
    "        yield a\n",
    "        a, b = b, a + b"
   ]
  },
  {
   "cell_type": "code",
   "execution_count": 9,
   "metadata": {
    "collapsed": false,
    "deletable": true,
    "editable": true,
    "scrolled": true
   },
   "outputs": [
    {
     "name": "stdout",
     "output_type": "stream",
     "text": [
      "4782 1070066266382758936764980584457396885083683896632151665013235203375314520604694040621889147582489792657804694888177591957484336466672569959512996030461262748092482186144069433051234774442750273781753087579391666192149259186759553966422837148943113074699503439547001985432609723067290192870526447243726117715821825548491120525013201478612965931381792235559657452039506137551467837543229119602129934048260706175397706847068202895486902666185435124521900369480641357447470911707619766945691070098024393439617474103736912503231365532164773697023167755051595173518460579954919410967778373229665796581646513903488154256310184224190259846088000110186255550245493937113651657039447629584714548523425950428582425306083544435428212611008992863795048006894330309773217834864543113205765659868456288616808718693835297350643986297640660000723562917905207051164077614812491885830945940566688339109350944456576357666151619317753792891661581327159616877487983821820492520348473874384736771934512787029218636250627816\n"
     ]
    }
   ],
   "source": [
    "# very tidy, but does not count indices\n",
    "next(i for i in gen_fibonacci() if len(str(i)) == 100)\n",
    "\n",
    "fibgen = gen_fibonacci()\n",
    "index = 1\n",
    "for fibterm in fibgen:\n",
    "    if len(str(fibterm)) == 1000:\n",
    "        print(index, fibterm)\n",
    "        break\n",
    "    index += 1"
   ]
  },
  {
   "cell_type": "code",
   "execution_count": null,
   "metadata": {
    "collapsed": true,
    "deletable": true,
    "editable": true
   },
   "outputs": [],
   "source": []
  }
 ],
 "metadata": {
  "kernelspec": {
   "display_name": "Python 3",
   "language": "python",
   "name": "python3"
  },
  "language_info": {
   "codemirror_mode": {
    "name": "ipython",
    "version": 3
   },
   "file_extension": ".py",
   "mimetype": "text/x-python",
   "name": "python",
   "nbconvert_exporter": "python",
   "pygments_lexer": "ipython3",
   "version": "3.6.5"
  }
 },
 "nbformat": 4,
 "nbformat_minor": 2
}
