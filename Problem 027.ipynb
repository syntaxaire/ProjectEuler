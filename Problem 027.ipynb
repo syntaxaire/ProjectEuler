{
 "cells": [
  {
   "cell_type": "markdown",
   "metadata": {},
   "source": [
    "### Problem 27: Quadratic primes\n",
    "Euler discovered the remarkable quadratic formula:\n",
    "$$n^{2}+n+41$$\n",
    "It turns out that the formula will produce 40 primes for the consecutive integer values $0≤n≤39$. However, when $n=40, 40^{2}+40+41=40(40+1)+41$ is divisible by 41, and certainly when $n=41,41^{2}+41+41$ is clearly divisible by 41.\n",
    "\n",
    "The incredible formula $n^{2}−79n+1601n$ was discovered, which produces 80 primes for the consecutive values $0≤n≤790≤n≤79$. The product of the coefficients, −79 and 1601, is −126479.\n",
    "\n",
    "Considering quadratics of the form:\n",
    "\n",
    "$n^{2}+an+b$, where $|a|<1000$ and $|b|≤1000$\n",
    "\n",
    "where $|n|$ is the modulus/absolute value of $n$  \n",
    "e.g. $|11|=11$ and $|−4|=4$\n",
    "\n",
    "Find the product of the coefficients, $a$ and $b$, for the quadratic expression that produces the maximum number of primes for consecutive values of $n$, starting with $n=0$."
   ]
  },
  {
   "cell_type": "code",
   "execution_count": 1,
   "metadata": {},
   "outputs": [],
   "source": [
    "def test_series(a, b):\n",
    "    series = []\n",
    "    for i in range(10):\n",
    "        series.append(i ** 2 + a * i + b)\n",
    "    return series"
   ]
  },
  {
   "cell_type": "code",
   "execution_count": 2,
   "metadata": {},
   "outputs": [
    {
     "name": "stdout",
     "output_type": "stream",
     "text": [
      "[41, 43, 47, 53, 61, 71, 83, 97, 113, 131]\n"
     ]
    }
   ],
   "source": [
    "print(test_series(1, 41))"
   ]
  },
  {
   "cell_type": "code",
   "execution_count": 3,
   "metadata": {},
   "outputs": [
    {
     "name": "stdout",
     "output_type": "stream",
     "text": [
      "[1601, 1523, 1447, 1373, 1301, 1231, 1163, 1097, 1033, 971]\n"
     ]
    }
   ],
   "source": [
    "print(test_series(-79, 1601))"
   ]
  },
  {
   "cell_type": "code",
   "execution_count": 39,
   "metadata": {},
   "outputs": [
    {
     "name": "stdout",
     "output_type": "stream",
     "text": [
      "New longest: (-1000, 2, 1)\n",
      "New longest: (-996, 997, 2)\n",
      "New longest: (-499, 997, 3)\n",
      "New longest: (-325, 977, 4)\n",
      "New longest: (-245, 977, 5)\n",
      "New longest: (-197, 983, 6)\n",
      "New longest: (-163, 983, 7)\n",
      "New longest: (-131, 941, 8)\n",
      "New longest: (-121, 947, 9)\n",
      "New longest: (-105, 967, 11)\n",
      "New longest: (-61, 971, 71)\n",
      "Length: 71\n",
      "a: -61\n",
      "b: 971\n",
      "Series: [971, 911, 853, 797, 743, 691, 641, 593, 547, 503, 461, 421, 383, 347, 313, 281, 251, 223, 197, 173, 151, 131, 113, 97, 83, 71, 61, 53, 47, 43, 41, 41, 43, 47, 53, 61, 71, 83, 97, 113, 131, 151, 173, 197, 223, 251, 281, 313, 347, 383, 421, 461, 503, 547, 593, 641, 691, 743, 797, 853, 911, 971, 1033, 1097, 1163, 1231, 1301, 1373, 1447, 1523, 1601]\n",
      "Solved in 3.4254908055629016 seconds\n"
     ]
    }
   ],
   "source": [
    "from timeit import default_timer as timer\n",
    "from euler import sieve_eratosthenes_up_to\n",
    "\n",
    "start = timer()\n",
    "\n",
    "def quadratic_series_within(a, b, container):\n",
    "    \"\"\"Return the longest quadratic series with terms inside container.\"\"\"\n",
    "    series = []\n",
    "    i = 0\n",
    "    while True:\n",
    "        element = i ** 2 + a * i + b\n",
    "        if element in primes:\n",
    "            series.append(element)\n",
    "            i += 1\n",
    "        else:\n",
    "            return series\n",
    "\n",
    "limit = 40000\n",
    "primes = set(sieve_eratosthenes_up_to(limit))\n",
    "\n",
    "longest_series = []\n",
    "for a in range(-1000, 1000):\n",
    "    for b in range(-1000, 1000):\n",
    "        series = quadratic_series_within(a, b, primes)\n",
    "        if len(series) > len(longest_series):\n",
    "            print(f\"New longest: {a, b, len(series)}\")\n",
    "            longest_terms = a, b\n",
    "            longest_series = series\n",
    "\n",
    "print(f\"Length: {len(longest_series)}\\na: {longest_terms[0]}\\nb: {longest_terms[1]}\\nSeries: {longest_series}\")\n",
    "\n",
    "end = timer()\n",
    "print(f\"Solved in {end - start} seconds\")"
   ]
  },
  {
   "cell_type": "code",
   "execution_count": 36,
   "metadata": {},
   "outputs": [
    {
     "name": "stdout",
     "output_type": "stream",
     "text": [
      "-59231\n"
     ]
    }
   ],
   "source": [
    "print(longest_terms[0] * longest_terms[1])"
   ]
  },
  {
   "cell_type": "code",
   "execution_count": null,
   "metadata": {},
   "outputs": [],
   "source": []
  }
 ],
 "metadata": {
  "kernelspec": {
   "display_name": "Python 3",
   "language": "python",
   "name": "python3"
  },
  "language_info": {
   "codemirror_mode": {
    "name": "ipython",
    "version": 3
   },
   "file_extension": ".py",
   "mimetype": "text/x-python",
   "name": "python",
   "nbconvert_exporter": "python",
   "pygments_lexer": "ipython3",
   "version": "3.6.5"
  }
 },
 "nbformat": 4,
 "nbformat_minor": 2
}
